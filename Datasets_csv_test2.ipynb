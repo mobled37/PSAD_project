{
 "cells": [
  {
   "cell_type": "code",
   "execution_count": 2,
   "metadata": {
    "collapsed": true
   },
   "outputs": [],
   "source": [
    "import os\n",
    "import random\n",
    "import numpy as np\n",
    "import librosa.display\n",
    "import soundfile as sf\n",
    "import json as json\n",
    "import pandas as pd\n",
    "import torch"
   ]
  },
  {
   "cell_type": "code",
   "execution_count": 3,
   "outputs": [],
   "source": [
    "def get_files_count(folder_path):\n",
    "\tdirListing = os.listdir(folder_path)\n",
    "\treturn len(dirListing)"
   ],
   "metadata": {
    "collapsed": false,
    "pycharm": {
     "name": "#%%\n"
    }
   }
  },
  {
   "cell_type": "code",
   "execution_count": 5,
   "outputs": [
    {
     "data": {
      "text/plain": "16"
     },
     "execution_count": 5,
     "metadata": {},
     "output_type": "execute_result"
    }
   ],
   "source": [
    "import multiprocessing as mp\n",
    "import tqdm\n",
    "mp.cpu_count()"
   ],
   "metadata": {
    "collapsed": false,
    "pycharm": {
     "name": "#%%\n"
    }
   }
  },
  {
   "cell_type": "code",
   "execution_count": 6,
   "outputs": [
    {
     "name": "stdout",
     "output_type": "stream",
     "text": [
      "complete200000\n",
      "complete201000\n",
      "complete201000\n",
      "complete202000\n",
      "complete203000\n",
      "complete203000\n",
      "complete204000\n",
      "complete204000\n",
      "complete204000\n",
      "complete204000\n",
      "complete205000\n",
      "complete205000\n",
      "complete206000\n",
      "complete206000\n",
      "complete207000\n",
      "complete207000\n",
      "complete207000\n",
      "complete207000\n",
      "complete208000\n",
      "complete209000\n",
      "complete209000\n",
      "complete210000\n",
      "complete211000\n",
      "complete212000\n",
      "complete213000\n",
      "complete214000\n",
      "complete215000\n",
      "complete215000\n",
      "complete216000\n",
      "complete217000\n",
      "complete218000\n",
      "complete218000\n",
      "complete218000\n",
      "complete219000\n",
      "complete219000\n",
      "complete220000\n",
      "complete220000\n",
      "complete220000\n",
      "complete220000\n",
      "complete221000\n",
      "complete221000\n",
      "complete221000\n",
      "complete222000\n",
      "complete222000\n",
      "complete223000\n",
      "complete223000\n",
      "complete223000\n",
      "complete224000\n",
      "complete225000\n",
      "complete226000\n",
      "complete226000\n",
      "complete226000\n",
      "complete227000\n",
      "complete227000\n",
      "complete227000\n",
      "complete228000\n",
      "complete229000\n",
      "complete230000\n",
      "complete231000\n",
      "complete232000\n",
      "complete233000\n",
      "complete234000\n",
      "complete235000\n",
      "complete235000\n",
      "complete236000\n",
      "complete237000\n",
      "complete237000\n",
      "complete237000\n",
      "complete238000\n",
      "complete239000\n",
      "complete239000\n",
      "complete239000\n",
      "complete239000\n",
      "complete239000\n",
      "complete239000\n",
      "complete240000\n",
      "complete240000\n",
      "complete241000\n",
      "complete242000\n",
      "complete243000\n",
      "complete244000\n",
      "complete245000\n",
      "complete246000\n",
      "complete247000\n",
      "complete247000\n",
      "complete248000\n",
      "complete248000\n",
      "complete249000\n",
      "complete249000\n",
      "complete250000\n",
      "complete250000\n",
      "complete251000\n",
      "complete251000\n"
     ]
    }
   ],
   "source": [
    "'''\n",
    "PATH INITIALIZATION\n",
    "\n",
    "PATH = Origninal Audio Files\n",
    "SAVE_PATH = Transformed Audio Files\n",
    "META_DATA_PATH = Metadata.json location\n",
    "'''\n",
    "import os\n",
    "PATH = \"/Users/valleotb/Desktop/Valleotb/sample\"\n",
    "SAVE_PATH = \"/Users/valleotb/Desktop/Valleotb/sample_save_2\"\n",
    "META_DATA_PATH = '/Users/valleotb/Desktop/Valleotb/sample_metadata'\n",
    "FILE_COUNT = get_files_count(PATH)\n",
    "# FILE_LIST = os.listdir(PATH)\n",
    "\n",
    "'''\n",
    "NAMING SETTING\n",
    "'''\n",
    "j = 100000  # 원본 파일 네이밍\n",
    "z = 200000  # 수정 후 파일 네이밍\n",
    "kiki = 0\n",
    "'''\n",
    "PARAMETER SETTING\n",
    "'''\n",
    "SAMPLE_TIME = 16000 * 3 # (16000 * second)\n",
    "OUTPUT_DIMENSION = 10\n",
    "\n",
    "'''\n",
    "META DATA INITIALIZATION\n",
    "'''\n",
    "META_DATA = f\"{META_DATA_PATH}/metadata.json\"\n",
    "DATA = {}\n",
    "# DATA['speech_segments'] = []\n",
    "\n",
    "for i in range(FILE_COUNT - 1):\n",
    "# for fname in FILE_LIST:\n",
    "    j += 1\n",
    "    '''\n",
    "    AUDIO PREPROCESSING (CUT TO SAME TIMES)\n",
    "    '''\n",
    "\n",
    "    if z % 1000 == 0 :\n",
    "        kiki += 1000\n",
    "        os.mkdir(f\"{SAVE_PATH}/{kiki}\")\n",
    "        FILE_BATCH_DIR = f\"{SAVE_PATH}/{kiki}\"\n",
    "        print(f'complete{z}')\n",
    "\n",
    "    WAVEFORM, SR = sf.read(f\"{PATH}/{j}.flac\")\n",
    "    WAVEFORM = librosa.util.normalize(WAVEFORM)\n",
    "    NON_SILENT_TIME = librosa.effects.split(WAVEFORM, top_db=20)\n",
    "\n",
    "    WAVEFORM = WAVEFORM[NON_SILENT_TIME[0][0] : (NON_SILENT_TIME[0][0]+SAMPLE_TIME)]\n",
    "    NON_SILENT_TIME_2 = librosa.effects.split(WAVEFORM, top_db=15)\n",
    "    # print(NON_SILENT_TIME_2)\n",
    "\n",
    "    if len(NON_SILENT_TIME_2) > 2 :\n",
    "        random_num = random.randint(0, len(NON_SILENT_TIME_2)-1)\n",
    "        k = NON_SILENT_TIME_2[random_num]\n",
    "        if (k[1] - k[0]) > (SAMPLE_TIME / OUTPUT_DIMENSION) :\n",
    "\n",
    "            '''\n",
    "            DATA TRANSFORM PROCESS\n",
    "            '''\n",
    "            # Pitch Shift Process\n",
    "            N_STEPS = random.randint(1,5)\n",
    "            WAVEFORM_TRANSFORM = librosa.effects.pitch_shift(WAVEFORM[k[0]:k[1]], sr=SR, n_steps=N_STEPS)\n",
    "            WAVEFORM_TRANSFORM_MINUS = librosa.effects.pitch_shift(WAVEFORM_TRANSFORM, sr=SR, n_steps=-N_STEPS)\n",
    "\n",
    "            # Normalize\n",
    "            WAVEFORM_NOT_TRANSFORM_PART = WAVEFORM[k[0]:k[1]]\n",
    "            WAVEFORM_DOUBLED = WAVEFORM_NOT_TRANSFORM_PART ** 2\n",
    "            WAVEFORM_TRANSFORM_DOUBLED = WAVEFORM_TRANSFORM_MINUS ** 2\n",
    "            a = np.sqrt((WAVEFORM_DOUBLED.sum()) / (WAVEFORM_TRANSFORM_DOUBLED.sum()))\n",
    "\n",
    "            WAVEFORM_TRANSFORM_FINAL = WAVEFORM_TRANSFORM_MINUS * a\n",
    "            WAVEFORM[k[0]:k[1]] = WAVEFORM_TRANSFORM_FINAL\n",
    "\n",
    "            '''\n",
    "            DATA LABELING PROCESS\n",
    "\n",
    "            LABELING => 구간의 50% 이상이 포함되었을때만 Labeling 진행한다.\n",
    "            LABEL_DATA, POINTER -> Initializing\n",
    "            '''\n",
    "            LABEL_DATA = []\n",
    "            POINTER = 0\n",
    "\n",
    "            sf.write(f'{FILE_BATCH_DIR}/{z}.wav', WAVEFORM, SR, subtype=\"PCM_24\")\n",
    "            # save_fname = os.path.join(SAVE_PATH, fname[:-4] + '.wav')\n",
    "            # sf.write(save_fname, WAVEFORM, SR, subtype=\"PCM_24\")\n",
    "            for e in range(OUTPUT_DIMENSION):\n",
    "                if POINTER + (SAMPLE_TIME / OUTPUT_DIMENSION) <= k[0]:\n",
    "                    # save label\n",
    "                    LABEL_DATA.append(0)\n",
    "                    POINTER += (SAMPLE_TIME / OUTPUT_DIMENSION)     # POINTER += 4800\n",
    "\n",
    "                elif k[0] < POINTER + (SAMPLE_TIME / OUTPUT_DIMENSION) <= k[1]:\n",
    "                    # save label\n",
    "                    LABEL_DATA.append(1)\n",
    "                    POINTER += (SAMPLE_TIME / OUTPUT_DIMENSION)     # POINTER += 4800\n",
    "\n",
    "                elif POINTER + (SAMPLE_TIME / OUTPUT_DIMENSION) > k[1]:\n",
    "                    # save label\n",
    "                    LABEL_DATA.append(0)\n",
    "                    POINTER += (SAMPLE_TIME / OUTPUT_DIMENSION)     # POINTER += 4800\n",
    "\n",
    "            # write metadata\n",
    "            DATA[f\"/content/drive/MyDrive/PSAD/sample_save/{kiki}/{z}.wav\"] = LABEL_DATA\n",
    "\n",
    "            # process end\n",
    "\n",
    "            z += 1\n",
    "\n",
    "with open(META_DATA, 'w') as outfile:\n",
    "    json.dump(DATA, outfile)"
   ],
   "metadata": {
    "collapsed": false,
    "pycharm": {
     "name": "#%%\n"
    }
   }
  },
  {
   "cell_type": "code",
   "execution_count": 9,
   "outputs": [
    {
     "name": "stdout",
     "output_type": "stream",
     "text": [
      "[[    0  7680]\n",
      " [11776 13824]\n",
      " [16384 23040]\n",
      " [27648 31744]\n",
      " [33792 35328]\n",
      " [38400 40448]\n",
      " [43008 48000]]\n"
     ]
    }
   ],
   "source": [
    "preprocess_single_data(os.path.join(PATH, \"196876.flac\"))"
   ],
   "metadata": {
    "collapsed": false,
    "pycharm": {
     "name": "#%%\n"
    }
   }
  },
  {
   "cell_type": "code",
   "execution_count": 10,
   "outputs": [
    {
     "data": {
      "text/plain": "<module 'multiprocessing' from '/Users/valleotb/anaconda3/lib/python3.9/multiprocessing/__init__.py'>"
     },
     "execution_count": 10,
     "metadata": {},
     "output_type": "execute_result"
    }
   ],
   "source": [],
   "metadata": {
    "collapsed": false,
    "pycharm": {
     "name": "#%%\n"
    }
   }
  },
  {
   "cell_type": "code",
   "execution_count": 11,
   "outputs": [
    {
     "name": "stderr",
     "output_type": "stream",
     "text": [
      "preprocessing in progress:   0%|          | 0/97629 [00:00<?, ?it/s]Process SpawnPoolWorker-694:\n",
      "Traceback (most recent call last):\n",
      "  File \"/Users/valleotb/anaconda3/lib/python3.9/multiprocessing/process.py\", line 315, in _bootstrap\n",
      "    self.run()\n",
      "  File \"/Users/valleotb/anaconda3/lib/python3.9/multiprocessing/process.py\", line 108, in run\n",
      "    self._target(*self._args, **self._kwargs)\n",
      "  File \"/Users/valleotb/anaconda3/lib/python3.9/multiprocessing/pool.py\", line 114, in worker\n",
      "    task = get()\n",
      "  File \"/Users/valleotb/anaconda3/lib/python3.9/multiprocessing/queues.py\", line 368, in get\n",
      "    return _ForkingPickler.loads(res)\n",
      "AttributeError: Can't get attribute 'preprocess_single_data' on <module '__main__' (built-in)>\n",
      "Process SpawnPoolWorker-695:\n",
      "Traceback (most recent call last):\n",
      "  File \"/Users/valleotb/anaconda3/lib/python3.9/multiprocessing/process.py\", line 315, in _bootstrap\n",
      "    self.run()\n",
      "  File \"/Users/valleotb/anaconda3/lib/python3.9/multiprocessing/process.py\", line 108, in run\n",
      "    self._target(*self._args, **self._kwargs)\n",
      "  File \"/Users/valleotb/anaconda3/lib/python3.9/multiprocessing/pool.py\", line 114, in worker\n",
      "    task = get()\n",
      "  File \"/Users/valleotb/anaconda3/lib/python3.9/multiprocessing/queues.py\", line 368, in get\n",
      "    return _ForkingPickler.loads(res)\n",
      "AttributeError: Can't get attribute 'preprocess_single_data' on <module '__main__' (built-in)>\n",
      "Process SpawnPoolWorker-696:\n",
      "Traceback (most recent call last):\n",
      "  File \"/Users/valleotb/anaconda3/lib/python3.9/multiprocessing/process.py\", line 315, in _bootstrap\n",
      "    self.run()\n",
      "  File \"/Users/valleotb/anaconda3/lib/python3.9/multiprocessing/process.py\", line 108, in run\n",
      "    self._target(*self._args, **self._kwargs)\n",
      "  File \"/Users/valleotb/anaconda3/lib/python3.9/multiprocessing/pool.py\", line 114, in worker\n",
      "    task = get()\n",
      "  File \"/Users/valleotb/anaconda3/lib/python3.9/multiprocessing/queues.py\", line 368, in get\n",
      "    return _ForkingPickler.loads(res)\n",
      "AttributeError: Can't get attribute 'preprocess_single_data' on <module '__main__' (built-in)>\n",
      "Process SpawnPoolWorker-697:\n",
      "Traceback (most recent call last):\n",
      "  File \"/Users/valleotb/anaconda3/lib/python3.9/multiprocessing/process.py\", line 315, in _bootstrap\n",
      "    self.run()\n",
      "  File \"/Users/valleotb/anaconda3/lib/python3.9/multiprocessing/process.py\", line 108, in run\n",
      "    self._target(*self._args, **self._kwargs)\n",
      "  File \"/Users/valleotb/anaconda3/lib/python3.9/multiprocessing/pool.py\", line 114, in worker\n",
      "    task = get()\n",
      "  File \"/Users/valleotb/anaconda3/lib/python3.9/multiprocessing/queues.py\", line 368, in get\n",
      "    return _ForkingPickler.loads(res)\n",
      "AttributeError: Can't get attribute 'preprocess_single_data' on <module '__main__' (built-in)>\n",
      "Process SpawnPoolWorker-698:\n",
      "Traceback (most recent call last):\n",
      "  File \"/Users/valleotb/anaconda3/lib/python3.9/multiprocessing/process.py\", line 315, in _bootstrap\n",
      "    self.run()\n",
      "  File \"/Users/valleotb/anaconda3/lib/python3.9/multiprocessing/process.py\", line 108, in run\n",
      "    self._target(*self._args, **self._kwargs)\n",
      "  File \"/Users/valleotb/anaconda3/lib/python3.9/multiprocessing/pool.py\", line 114, in worker\n",
      "    task = get()\n",
      "  File \"/Users/valleotb/anaconda3/lib/python3.9/multiprocessing/queues.py\", line 368, in get\n",
      "    return _ForkingPickler.loads(res)\n",
      "AttributeError: Can't get attribute 'preprocess_single_data' on <module '__main__' (built-in)>\n",
      "Process SpawnPoolWorker-699:\n",
      "Traceback (most recent call last):\n",
      "  File \"/Users/valleotb/anaconda3/lib/python3.9/multiprocessing/process.py\", line 315, in _bootstrap\n",
      "    self.run()\n",
      "  File \"/Users/valleotb/anaconda3/lib/python3.9/multiprocessing/process.py\", line 108, in run\n",
      "    self._target(*self._args, **self._kwargs)\n",
      "  File \"/Users/valleotb/anaconda3/lib/python3.9/multiprocessing/pool.py\", line 114, in worker\n",
      "    task = get()\n",
      "  File \"/Users/valleotb/anaconda3/lib/python3.9/multiprocessing/queues.py\", line 368, in get\n",
      "    return _ForkingPickler.loads(res)\n",
      "AttributeError: Can't get attribute 'preprocess_single_data' on <module '__main__' (built-in)>\n",
      "Process SpawnPoolWorker-700:\n",
      "Traceback (most recent call last):\n",
      "  File \"/Users/valleotb/anaconda3/lib/python3.9/multiprocessing/process.py\", line 315, in _bootstrap\n",
      "    self.run()\n",
      "  File \"/Users/valleotb/anaconda3/lib/python3.9/multiprocessing/process.py\", line 108, in run\n",
      "    self._target(*self._args, **self._kwargs)\n",
      "  File \"/Users/valleotb/anaconda3/lib/python3.9/multiprocessing/pool.py\", line 114, in worker\n",
      "    task = get()\n",
      "  File \"/Users/valleotb/anaconda3/lib/python3.9/multiprocessing/queues.py\", line 368, in get\n",
      "    return _ForkingPickler.loads(res)\n",
      "AttributeError: Can't get attribute 'preprocess_single_data' on <module '__main__' (built-in)>\n",
      "Process SpawnPoolWorker-701:\n",
      "Traceback (most recent call last):\n",
      "  File \"/Users/valleotb/anaconda3/lib/python3.9/multiprocessing/process.py\", line 315, in _bootstrap\n",
      "    self.run()\n",
      "  File \"/Users/valleotb/anaconda3/lib/python3.9/multiprocessing/process.py\", line 108, in run\n",
      "    self._target(*self._args, **self._kwargs)\n",
      "  File \"/Users/valleotb/anaconda3/lib/python3.9/multiprocessing/pool.py\", line 114, in worker\n",
      "    task = get()\n",
      "  File \"/Users/valleotb/anaconda3/lib/python3.9/multiprocessing/queues.py\", line 368, in get\n",
      "    return _ForkingPickler.loads(res)\n",
      "AttributeError: Can't get attribute 'preprocess_single_data' on <module '__main__' (built-in)>\n",
      "Process SpawnPoolWorker-702:\n",
      "Traceback (most recent call last):\n",
      "  File \"/Users/valleotb/anaconda3/lib/python3.9/multiprocessing/process.py\", line 315, in _bootstrap\n",
      "    self.run()\n",
      "  File \"/Users/valleotb/anaconda3/lib/python3.9/multiprocessing/process.py\", line 108, in run\n",
      "    self._target(*self._args, **self._kwargs)\n",
      "  File \"/Users/valleotb/anaconda3/lib/python3.9/multiprocessing/pool.py\", line 114, in worker\n",
      "    task = get()\n",
      "  File \"/Users/valleotb/anaconda3/lib/python3.9/multiprocessing/queues.py\", line 368, in get\n",
      "    return _ForkingPickler.loads(res)\n",
      "AttributeError: Can't get attribute 'preprocess_single_data' on <module '__main__' (built-in)>\n",
      "Process SpawnPoolWorker-703:\n",
      "Traceback (most recent call last):\n",
      "  File \"/Users/valleotb/anaconda3/lib/python3.9/multiprocessing/process.py\", line 315, in _bootstrap\n",
      "    self.run()\n",
      "  File \"/Users/valleotb/anaconda3/lib/python3.9/multiprocessing/process.py\", line 108, in run\n",
      "    self._target(*self._args, **self._kwargs)\n",
      "  File \"/Users/valleotb/anaconda3/lib/python3.9/multiprocessing/pool.py\", line 114, in worker\n",
      "    task = get()\n",
      "  File \"/Users/valleotb/anaconda3/lib/python3.9/multiprocessing/queues.py\", line 368, in get\n",
      "    return _ForkingPickler.loads(res)\n",
      "AttributeError: Can't get attribute 'preprocess_single_data' on <module '__main__' (built-in)>\n",
      "Process SpawnPoolWorker-707:\n",
      "Process SpawnPoolWorker-705:\n",
      "Process SpawnPoolWorker-706:\n",
      "Process SpawnPoolWorker-704:\n",
      "preprocessing in progress:   0%|          | 0/97629 [02:13<?, ?it/s]Traceback (most recent call last):\n",
      "  File \"/Users/valleotb/anaconda3/lib/python3.9/multiprocessing/process.py\", line 315, in _bootstrap\n",
      "    self.run()\n",
      "  File \"/Users/valleotb/anaconda3/lib/python3.9/multiprocessing/process.py\", line 108, in run\n",
      "    self._target(*self._args, **self._kwargs)\n",
      "  File \"/Users/valleotb/anaconda3/lib/python3.9/multiprocessing/pool.py\", line 114, in worker\n",
      "    task = get()\n",
      "  File \"/Users/valleotb/anaconda3/lib/python3.9/multiprocessing/queues.py\", line 365, in get\n",
      "    with self._rlock:\n",
      "  File \"/Users/valleotb/anaconda3/lib/python3.9/multiprocessing/synchronize.py\", line 95, in __enter__\n",
      "    return self._semlock.__enter__()\n",
      "KeyboardInterrupt\n",
      "Traceback (most recent call last):\n",
      "  File \"/Users/valleotb/anaconda3/lib/python3.9/multiprocessing/process.py\", line 315, in _bootstrap\n",
      "    self.run()\n",
      "  File \"/Users/valleotb/anaconda3/lib/python3.9/multiprocessing/process.py\", line 108, in run\n",
      "    self._target(*self._args, **self._kwargs)\n",
      "  File \"/Users/valleotb/anaconda3/\n",
      "lib/python3.9/multiprocessing/pool.py\", line 114, in worker\n",
      "    task = get()\n",
      "  File \"/Users/valleotb/anaconda3/lib/python3.9/multiprocessing/queues.py\", line 365, in get\n",
      "    with self._rlock:\n",
      "  File \"/Users/valleotb/anaconda3/lib/python3.9/multiprocessing/synchronize.py\", line 95, in __enter__\n",
      "    return self._semlock.__enter__()\n",
      "KeyboardInterrupt\n",
      "Traceback (most recent call last):\n",
      "  File \"/Users/valleotb/anaconda3/lib/python3.9/multiprocessing/process.py\", line 315, in _bootstrap\n",
      "    self.run()\n",
      "  File \"/Users/valleotb/anaconda3/lib/python3.9/multiprocessing/process.py\", line 108, in run\n",
      "    self._target(*self._args, **self._kwargs)\n",
      "  File \"/Users/valleotb/anaconda3/lib/python3.9/multiprocessing/pool.py\", line 114, in worker\n",
      "    task = get()\n",
      "  File \"/Users/valleotb/anaconda3/lib/python3.9/multiprocessing/queues.py\", line 365, in get\n",
      "    with self._rlock:\n",
      "  File \"/Users/valleotb/anaconda3/lib/python3.9/multiprocessing/synchronize.py\", line 95, in __enter__\n",
      "    return self._semlock.__enter__()\n",
      "Traceback (most recent call last):\n",
      "KeyboardInterrupt\n",
      "  File \"/Users/valleotb/anaconda3/lib/python3.9/multiprocessing/process.py\", line 315, in _bootstrap\n",
      "    self.run()\n",
      "  File \"/Users/valleotb/anaconda3/lib/python3.9/multiprocessing/process.py\", line 108, in run\n",
      "    self._target(*self._args, **self._kwargs)\n",
      "  File \"/Users/valleotb/anaconda3/lib/python3.9/multiprocessing/pool.py\", line 114, in worker\n",
      "    task = get()\n",
      "  File \"/Users/valleotb/anaconda3/lib/python3.9/multiprocessing/queues.py\", line 366, in get\n",
      "    res = self._reader.recv_bytes()\n",
      "  File \"/Users/valleotb/anaconda3/lib/python3.9/multiprocessing/connection.py\", line 221, in recv_bytes\n",
      "    buf = self._recv_bytes(maxlength)\n",
      "  File \"/Users/valleotb/anaconda3/lib/python3.9/multiprocessing/connection.py\", line 419, in _recv_bytes\n",
      "    buf = self._recv(4)\n",
      "  File \"/Users/valleotb/anaconda3/lib/python3.9/multiprocessing/connection.py\", line 384, in _recv\n",
      "    chunk = read(handle, remaining)\n",
      "KeyboardInterrupt\n"
     ]
    },
    {
     "ename": "KeyboardInterrupt",
     "evalue": "",
     "output_type": "error",
     "traceback": [
      "\u001B[0;31m---------------------------------------------------------------------------\u001B[0m",
      "\u001B[0;31mIndexError\u001B[0m                                Traceback (most recent call last)",
      "\u001B[0;32m~/anaconda3/lib/python3.9/multiprocessing/pool.py\u001B[0m in \u001B[0;36mnext\u001B[0;34m(self, timeout)\u001B[0m\n\u001B[1;32m    852\u001B[0m             \u001B[0;32mtry\u001B[0m\u001B[0;34m:\u001B[0m\u001B[0;34m\u001B[0m\u001B[0;34m\u001B[0m\u001B[0m\n\u001B[0;32m--> 853\u001B[0;31m                 \u001B[0mitem\u001B[0m \u001B[0;34m=\u001B[0m \u001B[0mself\u001B[0m\u001B[0;34m.\u001B[0m\u001B[0m_items\u001B[0m\u001B[0;34m.\u001B[0m\u001B[0mpopleft\u001B[0m\u001B[0;34m(\u001B[0m\u001B[0;34m)\u001B[0m\u001B[0;34m\u001B[0m\u001B[0;34m\u001B[0m\u001B[0m\n\u001B[0m\u001B[1;32m    854\u001B[0m             \u001B[0;32mexcept\u001B[0m \u001B[0mIndexError\u001B[0m\u001B[0;34m:\u001B[0m\u001B[0;34m\u001B[0m\u001B[0;34m\u001B[0m\u001B[0m\n",
      "\u001B[0;31mIndexError\u001B[0m: pop from an empty deque",
      "\nDuring handling of the above exception, another exception occurred:\n",
      "\u001B[0;31mKeyboardInterrupt\u001B[0m                         Traceback (most recent call last)",
      "\u001B[0;32m/var/folders/kk/06pd4_h53xdc1nhcqn5l39vh0000gn/T/ipykernel_27921/2720911922.py\u001B[0m in \u001B[0;36m<module>\u001B[0;34m\u001B[0m\n\u001B[1;32m      1\u001B[0m \u001B[0;32mwith\u001B[0m \u001B[0mmp\u001B[0m\u001B[0;34m.\u001B[0m\u001B[0mPool\u001B[0m\u001B[0;34m(\u001B[0m\u001B[0mprocesses\u001B[0m\u001B[0;34m=\u001B[0m\u001B[0;36m4\u001B[0m\u001B[0;34m)\u001B[0m \u001B[0;32mas\u001B[0m \u001B[0mpool\u001B[0m\u001B[0;34m:\u001B[0m\u001B[0;34m\u001B[0m\u001B[0;34m\u001B[0m\u001B[0m\n\u001B[0;32m----> 2\u001B[0;31m     metadata_list = list(\n\u001B[0m\u001B[1;32m      3\u001B[0m         tqdm.tqdm(\n\u001B[1;32m      4\u001B[0m             pool.imap_unordered(\n\u001B[1;32m      5\u001B[0m                 \u001B[0mpreprocess_single_data\u001B[0m\u001B[0;34m,\u001B[0m \u001B[0mFILE_LIST\u001B[0m\u001B[0;34m[\u001B[0m\u001B[0;34m:\u001B[0m\u001B[0;36m10\u001B[0m\u001B[0;34m]\u001B[0m\u001B[0;34m,\u001B[0m\u001B[0;34m\u001B[0m\u001B[0;34m\u001B[0m\u001B[0m\n",
      "\u001B[0;32m~/anaconda3/lib/python3.9/site-packages/tqdm/std.py\u001B[0m in \u001B[0;36m__iter__\u001B[0;34m(self)\u001B[0m\n\u001B[1;32m   1178\u001B[0m \u001B[0;34m\u001B[0m\u001B[0m\n\u001B[1;32m   1179\u001B[0m         \u001B[0;32mtry\u001B[0m\u001B[0;34m:\u001B[0m\u001B[0;34m\u001B[0m\u001B[0;34m\u001B[0m\u001B[0m\n\u001B[0;32m-> 1180\u001B[0;31m             \u001B[0;32mfor\u001B[0m \u001B[0mobj\u001B[0m \u001B[0;32min\u001B[0m \u001B[0miterable\u001B[0m\u001B[0;34m:\u001B[0m\u001B[0;34m\u001B[0m\u001B[0;34m\u001B[0m\u001B[0m\n\u001B[0m\u001B[1;32m   1181\u001B[0m                 \u001B[0;32myield\u001B[0m \u001B[0mobj\u001B[0m\u001B[0;34m\u001B[0m\u001B[0;34m\u001B[0m\u001B[0m\n\u001B[1;32m   1182\u001B[0m                 \u001B[0;31m# Update and possibly print the progressbar.\u001B[0m\u001B[0;34m\u001B[0m\u001B[0;34m\u001B[0m\u001B[0m\n",
      "\u001B[0;32m~/anaconda3/lib/python3.9/multiprocessing/pool.py\u001B[0m in \u001B[0;36mnext\u001B[0;34m(self, timeout)\u001B[0m\n\u001B[1;32m    856\u001B[0m                     \u001B[0mself\u001B[0m\u001B[0;34m.\u001B[0m\u001B[0m_pool\u001B[0m \u001B[0;34m=\u001B[0m \u001B[0;32mNone\u001B[0m\u001B[0;34m\u001B[0m\u001B[0;34m\u001B[0m\u001B[0m\n\u001B[1;32m    857\u001B[0m                     \u001B[0;32mraise\u001B[0m \u001B[0mStopIteration\u001B[0m \u001B[0;32mfrom\u001B[0m \u001B[0;32mNone\u001B[0m\u001B[0;34m\u001B[0m\u001B[0;34m\u001B[0m\u001B[0m\n\u001B[0;32m--> 858\u001B[0;31m                 \u001B[0mself\u001B[0m\u001B[0;34m.\u001B[0m\u001B[0m_cond\u001B[0m\u001B[0;34m.\u001B[0m\u001B[0mwait\u001B[0m\u001B[0;34m(\u001B[0m\u001B[0mtimeout\u001B[0m\u001B[0;34m)\u001B[0m\u001B[0;34m\u001B[0m\u001B[0;34m\u001B[0m\u001B[0m\n\u001B[0m\u001B[1;32m    859\u001B[0m                 \u001B[0;32mtry\u001B[0m\u001B[0;34m:\u001B[0m\u001B[0;34m\u001B[0m\u001B[0;34m\u001B[0m\u001B[0m\n\u001B[1;32m    860\u001B[0m                     \u001B[0mitem\u001B[0m \u001B[0;34m=\u001B[0m \u001B[0mself\u001B[0m\u001B[0;34m.\u001B[0m\u001B[0m_items\u001B[0m\u001B[0;34m.\u001B[0m\u001B[0mpopleft\u001B[0m\u001B[0;34m(\u001B[0m\u001B[0;34m)\u001B[0m\u001B[0;34m\u001B[0m\u001B[0;34m\u001B[0m\u001B[0m\n",
      "\u001B[0;32m~/anaconda3/lib/python3.9/threading.py\u001B[0m in \u001B[0;36mwait\u001B[0;34m(self, timeout)\u001B[0m\n\u001B[1;32m    310\u001B[0m         \u001B[0;32mtry\u001B[0m\u001B[0;34m:\u001B[0m    \u001B[0;31m# restore state no matter what (e.g., KeyboardInterrupt)\u001B[0m\u001B[0;34m\u001B[0m\u001B[0;34m\u001B[0m\u001B[0m\n\u001B[1;32m    311\u001B[0m             \u001B[0;32mif\u001B[0m \u001B[0mtimeout\u001B[0m \u001B[0;32mis\u001B[0m \u001B[0;32mNone\u001B[0m\u001B[0;34m:\u001B[0m\u001B[0;34m\u001B[0m\u001B[0;34m\u001B[0m\u001B[0m\n\u001B[0;32m--> 312\u001B[0;31m                 \u001B[0mwaiter\u001B[0m\u001B[0;34m.\u001B[0m\u001B[0macquire\u001B[0m\u001B[0;34m(\u001B[0m\u001B[0;34m)\u001B[0m\u001B[0;34m\u001B[0m\u001B[0;34m\u001B[0m\u001B[0m\n\u001B[0m\u001B[1;32m    313\u001B[0m                 \u001B[0mgotit\u001B[0m \u001B[0;34m=\u001B[0m \u001B[0;32mTrue\u001B[0m\u001B[0;34m\u001B[0m\u001B[0;34m\u001B[0m\u001B[0m\n\u001B[1;32m    314\u001B[0m             \u001B[0;32melse\u001B[0m\u001B[0;34m:\u001B[0m\u001B[0;34m\u001B[0m\u001B[0;34m\u001B[0m\u001B[0m\n",
      "\u001B[0;31mKeyboardInterrupt\u001B[0m: "
     ]
    }
   ],
   "source": [
    "with mp.Pool(processes=4) as pool:\n",
    "    metadata_list = list(\n",
    "        tqdm.tqdm(\n",
    "            pool.imap_unordered(\n",
    "                preprocess_single_data, FILE_LIST[:10],\n",
    "            ),\n",
    "            total=len(FILE_LIST),\n",
    "            desc=f'preprocessing in progress'\n",
    "        )\n",
    "    )\n",
    "len(metadata_list)\n",
    "with open(META_DATA, 'w') as outfile:\n",
    "    json.dump(DATA, outfile)"
   ],
   "metadata": {
    "collapsed": false,
    "pycharm": {
     "name": "#%%\n"
    }
   }
  },
  {
   "cell_type": "code",
   "execution_count": 53,
   "outputs": [
    {
     "name": "stdout",
     "output_type": "stream",
     "text": [
      "{'200000.wav': [1, 1, 0, 0, 0, 0, 0, 0, 0, 0], '200001.wav': [1, 1, 1, 1, 1, 0, 0, 0, 0, 0], '200002.wav': [0, 1, 0, 0, 0, 0, 0, 0, 0, 0], '200003.wav': [0, 0, 0, 0, 0, 0, 0, 1, 1, 1], '200004.wav': [1, 1, 1, 1, 1, 1, 0, 0, 0, 0], '200005.wav': [0, 0, 0, 1, 1, 0, 0, 0, 0, 0], '200006.wav': [1, 1, 0, 0, 0, 0, 0, 0, 0, 0], '200007.wav': [0, 0, 0, 0, 0, 0, 0, 1, 0, 0], '200008.wav': [0, 0, 0, 0, 0, 0, 1, 0, 0, 0], '200009.wav': [0, 0, 0, 0, 0, 1, 1, 1, 0, 0], '200010.wav': [0, 0, 0, 0, 0, 0, 0, 0, 1, 1], '200011.wav': [0, 0, 0, 0, 0, 0, 0, 0, 1, 0], '200012.wav': [0, 0, 0, 0, 1, 1, 1, 0, 0, 0], '200013.wav': [0, 0, 0, 0, 1, 1, 1, 0, 0, 0]}\n"
     ]
    }
   ],
   "source": [
    "# meta_data_json = pd.read_json('/Users/valleotb/Desktop/Valleotb/sample_metadata/metadata.json')\n",
    "meta_data_json = json.load(open('/Users/valleotb/Desktop/Valleotb/sample_metadata/metadata.json'))\n",
    "print(meta_data_json)"
   ],
   "metadata": {
    "collapsed": false,
    "pycharm": {
     "name": "#%%\n"
    }
   }
  },
  {
   "cell_type": "code",
   "execution_count": 56,
   "outputs": [
    {
     "data": {
      "text/plain": "'200000.wav'"
     },
     "execution_count": 56,
     "metadata": {},
     "output_type": "execute_result"
    }
   ],
   "source": [
    "m = list(meta_data_json.keys())\n",
    "m[0]"
   ],
   "metadata": {
    "collapsed": false,
    "pycharm": {
     "name": "#%%\n"
    }
   }
  },
  {
   "cell_type": "code",
   "execution_count": 62,
   "outputs": [
    {
     "data": {
      "text/plain": "[1, 1, 0, 0, 0, 0, 0, 0, 0, 0]"
     },
     "execution_count": 62,
     "metadata": {},
     "output_type": "execute_result"
    }
   ],
   "source": [
    "meta_data_json[m[0]]"
   ],
   "metadata": {
    "collapsed": false,
    "pycharm": {
     "name": "#%%\n"
    }
   }
  },
  {
   "cell_type": "code",
   "execution_count": 63,
   "outputs": [
    {
     "name": "stdout",
     "output_type": "stream",
     "text": [
      "['200000.wav', '200001.wav', '200002.wav', '200003.wav', '200004.wav', '200005.wav', '200006.wav', '200007.wav', '200008.wav', '200009.wav', '200010.wav', '200011.wav', '200012.wav', '200013.wav']\n"
     ]
    }
   ],
   "source": [
    "print(m)"
   ],
   "metadata": {
    "collapsed": false,
    "pycharm": {
     "name": "#%%\n"
    }
   }
  },
  {
   "cell_type": "code",
   "execution_count": 64,
   "outputs": [
    {
     "name": "stdout",
     "output_type": "stream",
     "text": [
      "14\n"
     ]
    }
   ],
   "source": [
    "print(len(meta_data_json))"
   ],
   "metadata": {
    "collapsed": false,
    "pycharm": {
     "name": "#%%\n"
    }
   }
  },
  {
   "cell_type": "code",
   "execution_count": 11,
   "outputs": [
    {
     "name": "stdout",
     "output_type": "stream",
     "text": [
      "tensor([1, 2, 0, 3, 4, 5])\n"
     ]
    }
   ],
   "source": [
    "import torch\n",
    "tuio = torch.tensor([[1,2],[0,3],[4,5]])\n",
    "tuio = torch.reshape(tuio, (-1, ))\n",
    "print(torch.LongTensor(tuio))"
   ],
   "metadata": {
    "collapsed": false,
    "pycharm": {
     "name": "#%%\n"
    }
   }
  },
  {
   "cell_type": "code",
   "execution_count": null,
   "outputs": [],
   "source": [],
   "metadata": {
    "collapsed": false,
    "pycharm": {
     "name": "#%%\n"
    }
   }
  }
 ],
 "metadata": {
  "kernelspec": {
   "display_name": "Python 3",
   "language": "python",
   "name": "python3"
  },
  "language_info": {
   "codemirror_mode": {
    "name": "ipython",
    "version": 2
   },
   "file_extension": ".py",
   "mimetype": "text/x-python",
   "name": "python",
   "nbconvert_exporter": "python",
   "pygments_lexer": "ipython2",
   "version": "2.7.6"
  }
 },
 "nbformat": 4,
 "nbformat_minor": 0
}